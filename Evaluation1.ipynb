{
 "cells": [
  {
   "cell_type": "markdown",
   "metadata": {},
   "source": [
    "## 1. Introduction \n",
    "This project studies the evaluation methods in classification problem. \n",
    "\n",
    "Efficiency is evaluated based on test data. Assume that the input is vector `y_pred` - and the predicted class  `y_pred` with vector class _real_ of the data, vector `y_true`. \n",
    "\n",
        "## 2. Accuracy \n",
    "Simplest method is _accuracy_. Cách đánh giá này đơn giản tính tỉ lệ giữa số điểm được dự đoán đúng và tổng số điểm trong tập dữ liệu kiểm thử. \n",
    "\n",
    "Trong ví dụ này, ta có thể đếm được có 5 điểm dữ liệu được dự đoán đúng trên tổng số 10 điểm. Vậy ta kết luận độ chính xác của mô hình là 0.6 (hay 60%). Để ý rằng đây là bài toán với chỉ 3 class, nên độ chính xác nhỏ nhất đã là khoảng 1/3, khi tất cả các điểm được dự đoán là thuộc vào một class nào đó. "
   ]
  },
  {
   "cell_type": "code",
   "execution_count": 146,
   "metadata": {},
   "outputs": [
    {
     "name": "stdout",
     "output_type": "stream",
     "text": [
      "accuracy =  0.6\n"
     ]
    }
   ],
   "source": [
    "from __future__ import print_function\n",
    "import numpy as np \n",
    "\n",
    "def acc(y_true, y_pred):\n",
    "    correct = np.sum(y_true == y_pred)\n",
    "    return float(correct)/y_true.shape[0]\n",
    "\n",
    "y_true = np.array([0, 0, 0, 0, 1, 1, 1, 2, 2, 2])\n",
    "y_pred = np.array([0, 1, 0, 2, 1, 1, 0, 2, 1, 2])\n",
    "print('accuracy = ', acc(y_true, y_pred))\n"
   ]
  },
  {
   "cell_type": "markdown",
   "metadata": {},
   "source": [
    "Và đây là [cách tính bằng thư viên](http://scikit-learn.org/stable/modules/generated/sklearn.metrics.accuracy_score.html):"
   ]
  },
  {
   "cell_type": "code",
   "execution_count": 147,
   "metadata": {},
   "outputs": [
    {
     "name": "stdout",
     "output_type": "stream",
     "text": [
      "accuracy =  0.6\n"
     ]
    }
   ],
   "source": [
    "from sklearn.metrics import accuracy_score\n",
    "print('accuracy = ',accuracy_score(y_true, y_pred))"
   ]
  },
  {
   "cell_type": "markdown",
   "metadata": {},
   "source": [
    "## 3. Confusion matrix \n",
    "Cách tính sử dụng accuracy như ở trên chỉ cho chúng ta biết được bao nhiêu phần trăm lượng dữ liệu được phân loại đúng mà không chỉ ra được cụ thể mỗi loại được phân loại như thế nào, lớp nào được phân loại đúng nhiều nhất, và dữ liệu thuộc lớp nào thường bị phân loại nhầm vào lớp khác. Để có thể đánh giá được các giá trị này, chúng ta sử dụng một ma trận được gọi là _confusion matrix_. \n",
    "\n",
    "Về cơ bản, confusion matrix thể hiện có bao nhiêu điểm dữ liệu _thực sự_ thuộc vào một class, và được _dự đoán_ là rơi vào một class. Để hiểu rõ hơn, hãy xem bảng dưới đây:"
   ]
  },
  {
   "cell_type": "markdown",
   "metadata": {},
   "source": [
    "```\n",
    " Total: 10 | Predicted | Predicted | Predicted |   \n",
    "           |    as: 0  |    as: 1  |    as: 2  |   \n",
    "-----------|-----------|-----------|-----------|---\n",
    " True: 0   |     2     |     1     |     1     | 4 \n",
    "-----------|-----------|-----------|-----------|---\n",
    " True: 1   |     1     |     2     |     0     | 3 \n",
    "-----------|-----------|-----------|-----------|---\n",
    " True: 2   |     0     |     1     |     2     | 3 \n",
    "-----------|-----------|-----------|-----------|---\n",
    "\n",
    "```\n",
    "\n",
    "Có tổng cộng 10 điểm dữ liệu. Chúng ta xét ma trận tạo bởi các giá trị tại vùng 3x3 trung tâm của bảng. \n",
    "\n",
    "Ma trận thu được được gọi là _confusion matrix_. Nó là một ma trận vuông với số chiều bằng số lượng lớp dữ liệu. Giá trị tại hàng thứ `i`, cột thứ `j` là số lượng điểm lẽ ra thuộc vào class `i` nhưng lại được dự đoán là thuộc vào class `j`. Như vậy, nhìn vào hàng thứ nhất (`0`), ta có thể thấy được rằng trong số bốn điểm thực sự thuộc lớp `0`, chỉ có hai điểm được phân loại đúng, hai điểm còn lại bị phân loại nhầm vào lớp `1` và lớp `2`. \n",
    "\n",
    "_**Chú ý:** Có một số tài liệu định nghĩa ngược lại, tức giá trị tại **cột** thứ `i`, **hàng** thứ `j` là số lượng điểm lẽ ra thuộc vào class `i` nhưng lại được dự đoán là thuộc vào class `j`. Khi đó ta sẽ được confusion matrix là ma trận chuyển vị của confusion matrix như cách tôi đang làm. Tôi chọn cách này vì đây chính là cách thư viện sklearn sử dụng._\n",
    "\n",
    "Chúng ta có thể suy ra ngay rằng tổng các phần tử trong toàn ma trận này chính là số điểm trong tập kiểm thử. Các phần tử trên đường chéo  của ma trận là số điểm được phân loại đúng của mỗi lớp dữ liệu. Từ đây có thể suy ra _accuracy_ chính bằng tổng các phần tử trên đường chéo chia cho tổng các phần tử của toàn ma trận. Đoạn code dưới đây mô tả cách tính confusion matrix:"
   ]
  },
  {
   "cell_type": "code",
   "execution_count": 148,
   "metadata": {},
   "outputs": [
    {
     "name": "stdout",
     "output_type": "stream",
     "text": [
      "Confusion matrix:\n",
      "[[ 2.  1.  1.]\n",
      " [ 1.  2.  0.]\n",
      " [ 0.  1.  2.]]\n",
      "\n",
      "Accuracy: 0.6\n"
     ]
    }
   ],
   "source": [
    "def my_confusion_matrix(y_true, y_pred):\n",
    "    N = np.unique(y_true).shape[0] # number of classes \n",
    "    cm = np.zeros((N, N))\n",
    "    for n in range(y_true.shape[0]):\n",
    "        cm[y_true[n], y_pred[n]] += 1\n",
    "    return cm \n",
    "\n",
    "cnf_matrix = my_confusion_matrix(y_true, y_pred)\n",
    "print('Confusion matrix:')\n",
    "print(cnf_matrix)\n",
    "print('\\nAccuracy:', np.diagonal(cnf_matrix).sum()/cnf_matrix.sum())\n"
   ]
  },
  {
   "cell_type": "markdown",
   "metadata": {},
   "source": [
    "Cách biểu diễn trên đây của confusion matrix còn được gọi là _unnormalized confusion matrix_, tức ma _confusion matrix_ chưa chuẩn hoá. Để có cái nhìn rõ hơn, ta có thể dùng _normalized confuion matrix_, tức _confusion matrix_ được chuẩn hoá. Để có _normalized confusion matrix_, ta lấy mỗi hàng của _unnormalized confusion matrix_ sẽ được chia cho tổng các phần tử trên hàng đó. Như vậy, ta có nhận xét rằng tổng các phần tử trên một hàng của _normalized confusion matrix_ luôn bằng 1. Điều này thường không đúng trên mỗi cột. Dưới đây là cách tính _normalized confusion matrix_:"
   ]
  },
  {
   "cell_type": "code",
   "execution_count": 149,
   "metadata": {},
   "outputs": [
    {
     "name": "stdout",
     "output_type": "stream",
     "text": [
      "\n",
      "Confusion matrix (with normalizatrion:)\n",
      "[[ 0.5         0.25        0.25      ]\n",
      " [ 0.33333333  0.66666667  0.        ]\n",
      " [ 0.          0.33333333  0.66666667]]\n"
     ]
    }
   ],
   "source": [
    "normalized_confusion_matrix = cnf_matrix/cnf_matrix.sum(axis = 1, keepdims = True)\n",
    "print('\\nConfusion matrix (with normalizatrion:)')\n",
    "print(normalized_confusion_matrix)"
   ]
  },
  {
   "cell_type": "markdown",
   "metadata": {},
   "source": [
    "Và cách tính [sử dụng thư viện](http://scikit-learn.org/stable/modules/generated/sklearn.metrics.confusion_matrix.html):"
   ]
  },
  {
   "cell_type": "code",
   "execution_count": 153,
   "metadata": {},
   "outputs": [
    {
     "name": "stdout",
     "output_type": "stream",
     "text": [
      "Confusion matrix:\n",
      "[[2 1 1]\n",
      " [1 2 0]\n",
      " [0 1 2]]\n"
     ]
    }
   ],
   "source": [
    "from sklearn.metrics import confusion_matrix\n",
    "cnf_matrix = confusion_matrix(y_true, y_pred)\n",
    "print('Confusion matrix:')\n",
    "print(cnf_matrix)"
   ]
  },
  {
   "cell_type": "markdown",
   "metadata": {},
   "source": [
    "Confusion matrix thường được minh hoạ bằng màu sắc để có cái nhìn rõ ràng hơn. Đoạn code dưới đây giúp hiển thị confusion matrix ở cả hai dạng (Nguồn: [Confusion matrix¶](http://scikit-learn.org/stable/auto_examples/model_selection/plot_confusion_matrix.html)): "
   ]
  },
  {
   "cell_type": "code",
   "execution_count": 154,
   "metadata": {},
   "outputs": [
    {
     "data": {
      "image/png": "[encoded data removed]",
      "text/plain": [
       "<matplotlib.figure.Figure at 0x10a51c3d0>"
      ]
     },
     "metadata": {},
     "output_type": "display_data"
    },
    {
     "data": {
      "image/png": "[encoded data removed]",
      "text/plain": [
       "<matplotlib.figure.Figure at 0x10a51cf10>"
      ]
     },
     "metadata": {},
     "output_type": "display_data"
    }
   ],
   "source": [
    "import matplotlib.pyplot as plt\n",
    "import itertools\n",
    "def plot_confusion_matrix(cm, classes,\n",
    "                          normalize=False,\n",
    "                          title='Confusion matrix',\n",
    "                          cmap=plt.cm.Blues):\n",
    "    \"\"\"\n",
    "    This function prints and plots the confusion matrix.\n",
    "    Normalization can be applied by setting `normalize=True`.\n",
    "    \"\"\"\n",
    "    if normalize:\n",
    "        cm = cm.astype('float') / cm.sum(axis=1, keepdims = True)\n",
    "\n",
    "    plt.imshow(cm, interpolation='nearest', cmap=cmap)\n",
    "    plt.title(title)\n",
    "    plt.colorbar()\n",
    "    tick_marks = np.arange(len(classes))\n",
    "    plt.xticks(tick_marks, classes, rotation=45)\n",
    "    plt.yticks(tick_marks, classes)\n",
    "\n",
    "    fmt = '.2f' if normalize else 'd'\n",
    "    thresh = cm.max() / 2.\n",
    "    for i, j in itertools.product(range(cm.shape[0]), range(cm.shape[1])):\n",
    "        plt.text(j, i, format(cm[i, j], fmt),\n",
    "                 horizontalalignment=\"center\",\n",
    "                 color=\"white\" if cm[i, j] > thresh else \"black\")\n",
    "\n",
    "    plt.tight_layout()\n",
    "    plt.ylabel('True label')\n",
    "    plt.xlabel('Predicted label')\n",
    "\n",
    "# Plot non-normalized confusion matrix\n",
    "class_names = [0, 1, 2]\n",
    "plt.figure()\n",
    "plot_confusion_matrix(cnf_matrix, classes=class_names,\n",
    "                      title='Confusion matrix, without normalization')\n",
    "\n",
    "# Plot normalized confusion matrix\n",
    "plt.figure()\n",
    "plot_confusion_matrix(cnf_matrix, classes=class_names, normalize=True,\n",
    "                      title='Normalized confusion matrix')\n",
    "\n",
    "plt.show()"
   ]
  },
  {
   "cell_type": "markdown",
   "metadata": {},
   "source": [
    "Với các bài toán với nhiều lớp dữ liệu, cách biểu diễn bằng màu này rất hữu ích. Các ô màu đậm thể hiện các giá trị cao. Một mô hình tốt sẽ cho một confusion matrix có các phần tử trên đường chéo chính có giá trị lớn, các phần tử còn lại có giá trị nhỏ. Nói cách khác, khi biểu diễn bằng màu sắc, đường chéo có màu càng đậm so với phần còn lại sẽ càng tốt. Từ hai hình trên ta thấy rằng confusion matrix đã chuẩn hoá mang nhiều thông tin hơn. Ta thấy rằng lớp dữ liệu `0` được phân loại không thực sự tốt (ô ở hàng `0`, cột `0` chưa đủ đậm, thực tế chỉ có 50% điểm trong lớp `0` được phân loại đúng). \n"
   ]
  },
  {
   "cell_type": "markdown",
   "metadata": {},
   "source": [
    "## 4. True/False Positive/Negative \n",
    "### 4.1. True/False Positive/Negative \n",
    "Cách đánh giá này thường được áp dụng cho các bài toán phân lớp có hai lớp dữ liệu. Cụ thể hơn, trong hai lớp dữ liệu này có một lớp _nghiêm trọng_ hơn lớp kia và cần được dự đoán chính xác. Ví dụ, trong bài toán xác định có bênh ung thư hay không thì việc không bị _sót_ (miss) quan trọng hơn là việc chẩn đoán nhầm _âm tính_ thành _dương tính_. Trong bài toán xác định có mìn dưới lòng đất hay không thì việc _bỏ sót_ nghiêm trọng hơn việc _báo động nhầm_ rất nhiều. Hay trong bài toán lọc email rác thì việc cho nhầm email quan trọng vào thùng rác nghiêm trọng hơn việc xác định một email rác là email thường. \n",
    "\n",
    "Trong những bài toán này, người ta thường định nghĩa lớp dữ liệu _quan trọng_ hơn cần được xác định đúng là lớp _Positive_ (P-dương tính), lớp còn lại được gọi là _Negative_ (N-âm tính). Ta định nghĩa _True Positive (TP), False Positive (FP), True Negative (TN), False Negative (FN)_ dựa trên _confusion matrix_ chưa chuẩn hoá như sau: \n",
    "```\n",
    "                  |      Predicted      |      Predicted      |\n",
    "                  |     as Positive     |     as Negative     |\n",
    "------------------|---------------------|---------------------|\n",
    " Actual: Positive | True Positive (TP)  | False Negative (FN) |\n",
    "------------------|---------------------|---------------------|\n",
    " Actual: Negative | False Positive (FP) | True Negative (TN)  |\n",
    "------------------|---------------------|---------------------|\n",
    "```\n",
    "\n",
    "Người ta thường quan tâm đến TPR, FNR, FPR, TNR (R - Rate) dựa trên _normalized confusion matrix_ như sau: \n",
    "\n",
    "```\n",
    "                  |     Predicted      |     Predicted      |\n",
    "                  |    as Positive     |    as Negative     |\n",
    "------------------|--------------------|--------------------|\n",
    " Actual: Positive | TPR = TP/(TP + FN) | FNR = FN/(TP + FN) |\n",
    "------------------|--------------------|--------------------|\n",
    " Actual: Negative | FPR = FP/(FP + TN) | TNR = TN/(FP + TN) |\n",
    "------------------|--------------------|--------------------|\n",
    "```\n",
    "\n",
    "_False Positive Rate_ còn được gọi là _False Alarm Rate_ (tỉ lệ báo động nhầm), _False Negative Rate_ còn được gọi là _Miss Detection Rate_ (tỉ lệ bỏ sót). Trong bài toán dò bom, _thà báo nhầm còn hơn bỏ sót_, tức là ta có thể chấp nhận _False Alarm Rate_ cao để đạt được _Miss Detection Rate_ thấp. \n",
    "\n",
    "**Chú ý:**:\n",
    "* Việc biết một cột của confusion matrix này(với bài toán có hai lớp dữ liệu) sẽ suy ra được cột còn lại vì tổng các hàng luôn bằng 1.\n",
    "\n",
    "* **Với các bài toán có nhiều lớp dữ liệu**, ta có thể xây dựng bảng True/False Positive/Negative cho **mỗi lớp** nếu coi lớp đó là lớp _Positive_, các lớp còn lại gộp chung thành lớp _Negative_, giống như cách làm trong one-vs-rest. Bạn có thể xem thêm ví dụ [tại đây](http://scikit-learn.org/stable/auto_examples/model_selection/plot_roc.html#sphx-glr-auto-examples-model-selection-plot-roc-py). \n",
    "\n",
    "### 4.2. Receiver Operating Characteristic curve \n",
    "Trong một số bài toán, việc tăng hay giảm FNR, FPR có thể được thực hiện bằng việc thay đổi một _ngưỡng_ (threshold) nào đó. Lấy ví dụ khi ta sử dụng thuật toán [Logistic Regression](https://machinelearningcoban.com/2017/01/27/logisticregression/), đầu ra của mô hình có thể là các _lớp cứng_ `0` hay `1`, hoặc cũng có thể là các giá trị thể hiện xác suất để dữ liệu đầu vào thuộc vào lớp `1`. Khi sử dụng thư viện [sklearn Logistic Regression](http://scikit-learn.org/stable/modules/generated/sklearn.linear_model.LogisticRegression.html), ta có thể lấy được các giá trị xác xuất này bằng phương thức `predict_proba()`. Mặc định, ngưỡng được sử dụng là 0.5, tức là một điểm dữ liệu `x` sẽ được dự đoán rơi vào lớp `1` nếu giá trị `predict_proba(x)` lớn hơn 0.5 và ngược lại. \n",
    "\n",
    "Nếu bây giờ ta coi lớp `1` là lớp _Positive_, lớp `0` là lớp _Negative_, câu hỏi đặt ra là làm thế nào để tăng mức độ _báo nhầm_ (FPR) để giảm mức độ _bỏ sót_ (FNR)? Chú ý rằng tăng FNR đồng nghĩa với việc giảm TPR.\n",
    "\n",
    "Một kỹ thuật đơn giản là ta thay giá trị threshold từ 0.5 xuống một số nhỏ hơn. Chẳng hạn nếu chọn threshold = 0.3, thì mọi điểm được dự đoán có xác suất đầu ra lớn hơn 0.3 sẽ được dự đoán là thuộc lớp Positive. Nói cách khác, tỉ lệ các điểm được phân loại là Positive sẽ tăng lên, kéo theo cả False Positive Rate và True Positive Rate cùng tăng lên (cột thứ nhất trong ma trận tăng lên). Từ đây suy ra cả FNR và TNR đều giảm. \n",
    "\n",
    "Ngược lại, nếu ta muốn _bỏ sót còn hơn báo nhầm_, tất nhiên là ở mức độ nào đó, như bài toán xác định email rác chẳng hạn, ta cần tăng threshold lên một số lớn hơn 0.5. Khi đó, hầu hết các điểm dữ liệu sẽ được dự đoán thuộc lớp `0`, tức _Negative_, và cả TNF và FNR đều tăng lên, tức TPR và FPR giảm xuống. \n",
    "\n",
    "Như vậy, ứng với mỗi giá trị của threshold, ta sẽ thu được một cặp (FPR, TPR). Biểu diễn các điểm (FPR, TPR) trên đồ thị khi thay đổi threshold từ 0 tới 1 ta sẽ thu được một đường được gọi là _Receiver Operating Characteristic curve_ hay ROC curve. (_Chú ý rằng khoảng giá trị của threshold không nhất thiết từ 0 tới 1 trong các bài toán tổng quát. Khoảng giá trị này cần được đảm bảo có trường hợp TPR/FPR nhận giá trị lớn nhất hay nhỏ nhất mà nó có thể đạt được_).\n",
    "\n",
    "Dưới đây là một ví dụ với hai lớp dữ liệu. Lớp thứ nhất là lớp _Negative_ có 20 điểm dữ liệu, 30 điểm còn lại thuộc lớp _Positive_. Giả sử mô hình đang xét cho các đầu ra của dữ liệu được lưu ở biến `scores`. \n"
   ]
  },
  {
   "cell_type": "code",
   "execution_count": 126,
   "metadata": {},
   "outputs": [
    {
     "name": "stdout",
     "output_type": "stream",
     "text": [
      "True labels:\n",
      "[0 0 0 0 0 0 0 0 0 0 0 0 0 0 0 0 0 0 0 0 1 1 1 1 1 1 1 1 1 1 1 1 1 1 1 1 1\n",
      " 1 1 1 1 1 1 1 1 1 1 1 1 1]\n",
      "\n",
      "Scores:\n",
      "[ 0.16987517  0.27608323  0.10851568  0.13395249  0.24878687  0.29100097\n",
      "  0.21036182  0.48215779  0.01930099  0.30927599  0.26581374  0.15141354\n",
      "  0.26298063  0.10405583  0.30773121  0.39830016  0.04868077  0.17290186\n",
      "  0.28717646  0.3340749   0.4174846   0.27292017  0.68740357  0.62108568\n",
      "  0.20781968  0.43056031  0.67816027  0.47037842  0.23118192  0.68862749\n",
      "  0.24559788  0.58645887  0.69637251  0.5247967   0.24265087  0.60485646\n",
      "  0.54800088  0.69565411  0.20509934  0.39638029  0.30860676  0.6267616\n",
      "  0.42360257  0.5507021   0.50313701  0.67614457  0.60108083  0.25201502\n",
      "  0.27830655  0.58669514]\n"
     ]
    }
   ],
   "source": [
    "# generate simulated data\n",
    "n0, n1 = 20, 30\n",
    "score0 = np.random.rand(n0)/2\n",
    "label0 = np.zeros(n0, dtype = int)\n",
    "score1  = np.random.rand(n1)/2 + .2\n",
    "label1 = np.ones(n1, dtype = int)\n",
    "scores = np.concatenate((score0, score1))\n",
    "y_true = np.concatenate((label0, label1))\n",
    "\n",
    "print('True labels:')\n",
    "print(y_true)\n",
    "print('\\nScores:')\n",
    "print(scores)"
   ]
  },
  {
   "cell_type": "markdown",
   "metadata": {},
   "source": [
    "Nhìn chung, các điểm thuộc lớp `1` có `score` cao hơn. Thư viện sklearn sẽ giúp chúng ta tính các thresholds cũng như FPR và TPR tương ứng:"
   ]
  },
  {
   "cell_type": "code",
   "execution_count": 133,
   "metadata": {},
   "outputs": [
    {
     "name": "stdout",
     "output_type": "stream",
     "text": [
      "Thresholds:\n",
      "[ 0.69637251  0.50313701  0.48215779  0.4174846   0.39830016  0.39638029\n",
      "  0.30927599  0.30860676  0.28717646  0.27830655  0.27608323  0.27292017\n",
      "  0.26298063  0.25201502  0.24878687  0.23118192  0.21036182  0.20509934\n",
      "  0.01930099]\n"
     ]
    }
   ],
   "source": [
    "from sklearn.metrics import roc_curve\n",
    "fpr, tpr, thresholds = roc_curve(y_true, scores, pos_label = 1)\n",
    "print('Thresholds:')\n",
    "print(thresholds)"
   ]
  },
  {
   "cell_type": "code",
   "execution_count": 134,
   "metadata": {},
   "outputs": [
    {
     "name": "stdout",
     "output_type": "stream",
     "text": [
      "False Positive Rate:\n",
      "[ 0.    0.    0.05  0.05  0.1   0.1   0.2   0.2   0.35  0.35  0.4   0.4\n",
      "  0.5   0.5   0.55  0.55  0.6   0.6   1.  ]\n"
     ]
    }
   ],
   "source": [
    "print('False Positive Rate:')\n",
    "print(fpr)"
   ]
  },
  {
   "cell_type": "code",
   "execution_count": 135,
   "metadata": {},
   "outputs": [
    {
     "name": "stdout",
     "output_type": "stream",
     "text": [
      "True Positive Rate:\n"
     ]
    },
    {
     "data": {
      "text/plain": [
       "array([ 0.03333333,  0.53333333,  0.53333333,  0.66666667,  0.66666667,\n",
       "        0.7       ,  0.7       ,  0.73333333,  0.73333333,  0.76666667,\n",
       "        0.76666667,  0.8       ,  0.8       ,  0.83333333,  0.83333333,\n",
       "        0.93333333,  0.93333333,  1.        ,  1.        ])"
      ]
     },
     "execution_count": 135,
     "metadata": {},
     "output_type": "execute_result"
    }
   ],
   "source": [
    "print('True Positive Rate:')\n",
    "tpr"
   ]
  },
  {
   "cell_type": "markdown",
   "metadata": {},
   "source": [
    "Như vậy, ứng với `threshold = 0.69637251`, `fpr = 0` và `tpr = 0.03`. Đây không phải là một ngưỡng tốt vì mặc dụ False Positive Rate thấp, True Positive Rate cũng rất thấp. Chúng ta luôn muốn rằng FPR thấp và TPR cao. \n",
    "\n",
    "ROC cho bài toán này được minh hoạ như dưới đây:"
   ]
  },
  {
   "cell_type": "code",
   "execution_count": 136,
   "metadata": {},
   "outputs": [
    {
     "data": {
      "image/png": "[encoded data removed]",
      "text/plain": [
       "<matplotlib.figure.Figure at 0x10a9b0190>"
      ]
     },
     "metadata": {},
     "output_type": "display_data"
    }
   ],
   "source": [
    "import matplotlib.pyplot as plt\n",
    "from itertools import cycle\n",
    "plt.figure()\n",
    "lw = 2\n",
    "plt.plot(fpr, tpr, color='darkorange',\n",
    "         lw=lw, label='ROC curve (area = %0.2f)' % auc(fpr, tpr))\n",
    "plt.plot([0, 1], [0, 1], color='navy', lw=lw, linestyle='--')\n",
    "plt.xlim([0.0, 1.0])\n",
    "plt.ylim([0.0, 1.05])\n",
    "plt.xlabel('False Positive Rate')\n",
    "plt.ylabel('True Positive Rate')\n",
    "plt.title('Receiver operating characteristic example')\n",
    "plt.legend(loc=\"lower right\")\n",
    "plt.show()"
   ]
  },
  {
   "cell_type": "markdown",
   "metadata": {},
   "source": [
    "### 4.3. Area Under the Curve\n",
    "Dựa trên ROC curve, ta có thể chỉ ra rằng một mô hình có hiệu quả hay không. Một mô hình hiệu quả khi có FPR thấp và TPR cao, tức tồn tại một điểm trên ROC curve gần với điểm có toạ độ (0, 1) trên đồ thị (góc trên bên trái). Curve càng gần thì mô hình càng hiệu quả. \n",
    "\n",
    "Có một thông số nữa dùng để đánh giá mà tôi đã sử dụng ở trên được gọi là _Area Under the Curve_ hay _AUC_. Đại lượng này chính là diện tích nằm dưới ROC curve màu cam. Giá trị này là một số dương nhỏ hơn hoặc bằng 1. Giá trị này càng lớn thì mô hình càng tốt. \n",
    "\n",
    "Chú ý: [Cross validation](https://machinelearningcoban.com/2017/03/04/overfitting/#-cross-validation) cũng có thể được thực hiện bằng cách xác định ROC curve và AUC lên [validation set]. "
   ]
  },
  {
   "cell_type": "markdown",
   "metadata": {},
   "source": [
    "## 5. Precision và Recall \n",
    "\n",
    "### 5.1 Định nghĩa\n",
    "Với bài toán phân loại mà tập huấn luyện của các lớp là chênh lệch nhau rất nhiều, có một phép đó hiệu quả thường được sử dụng là Precision-Recall. \n",
    "\n",
    "Trước hết xét bài toán phân loại nhị phân. Ta cũng coi một trong hai lớp là _positive_, lớp còn lại là _negative_. \n",
    "\n",
    "Xét Hình 3 dưới đây:\n",
    "\n",
    "<hr>\n",
    "<div class=\"imgcap\">\n",
    "<img src =\"/assets/33_evaluation/PR.png\" align = \"center\" width = \"800\">\n",
    "</div>\n",
    "\n",
    "<br>\n",
    "<div  class = \"thecap\" style = \"text-align: justify\" >Hình 3: Cách tính Precision và Recall.</div>\n",
    "<hr>\n",
    "\n",
    "Với một cách xác định một lớp là _positive_, **Precision** được định nghĩa là tỉ lệ số điểm dữ liệu **true positive** trong số những điểm **được mô hình phân loại là _positive_** (TP + FP). \n",
    "\n",
    "**Recall** được định nghĩa là tỉ lệ số điểm dữ liệu **true positive** trong số những điểm **thực sự là _positive_** (TP + FN). \n",
    "\n",
    "Một cách toán học, Precison và Recall là hai phân số có tử số bằng nhau nhưng mẫu số khác nhau: \n",
    "\n",
    "\\\\[\n",
    "\\begin{eqnarray}\n",
    "\\text{Precision} &=& \\frac{\\text{TP}}{\\text{TP} + \\text{FP}} \\\\\\\n",
    "\\text{Recall} &=& \\frac{\\text{TP}}{\\text{TP} + \\text{FN}}\n",
    "\\end{eqnarray}\n",
    "\\\\]\n",
    "\n",
    "Bạn đọc có thể nhận thấy rằng TPR và Recall là hai đại lượng bằng nhau. Ngoài ra, cả Precision và Recall đều là các số không âm nhỏ hơn hoặc bằng một. \n",
    "\n",
    "Precision cao đồng nghĩa với việc độ chính xác của các điểm tìm được là cao. Recall cao đồng nghĩa với việc True Positive Rate cao, tức tỉ lệ bỏ sót các điểm thực sự _positive_ là thấp.\n",
    "\n",
    "Ví dụ nhỏ dưới đây thể hiện cách tính Precision và Recall dựa vào Confusion Matrix cho bài toán phân loại nhị phân."
   ]
  },
  {
   "cell_type": "code",
   "execution_count": 2,
   "metadata": {},
   "outputs": [
    {
     "name": "stdout",
     "output_type": "stream",
     "text": [
      "precition = 0.83, recall = 0.91\n"
     ]
    }
   ],
   "source": [
    "from __future__ import print_function\n",
    "import numpy as np \n",
    "# confusion matrix to precision + recall\n",
    "def cm2pr_binary(cm):\n",
    "    p = cm[0,0]/np.sum(cm[:,0])\n",
    "    r = cm[0,0]/np.sum(cm[0])\n",
    "    return (p, r)\n",
    "\n",
    "# example of a confusion matrix for binary classification problem \n",
    "cm = np.array([[100., 10], [20, 70]])\n",
    "p,r = cm2pr_binary(cm)\n",
    "print(\"precition = {0:.2f}, recall = {1:.2f}\".format(p, r))"
   ]
  },
  {
   "cell_type": "markdown",
   "metadata": {},
   "source": [
    "Khi Precision = 1, mọi điểm tìm được đều thực sự là _positive_, tức không có điểm _negative_ nào lẫn vào kết quả. Tuy nhiên, Precision = 1 không đảm bảo mô hình là tốt, vì câu hỏi đặt ra là liệu mô hình đã tìm được tất cả các điểm _positive_ hay chưa. Nếu một mô hình chỉ tìm được đúng một điểm _positive_ mà nó chắc chắn nhất thì ta không thể gọi nó là một mô hình tốt. \n",
    "\n",
    "Khi Recall = 1, mọi điểm _positive_ đều được tìm thấy. Tuy nhiên, đại lượng này lại không đo liệu có bao nhiêu điểm _negative_ bị lẫn trong đó. Nếu mô hình phân loại mọi điểm là _positive_ thì chắc chắn Recall = 1, tuy nhiên dễ nhận ra đây là một mô hình cực tồi. \n",
    "\n",
    "Một mô hình phân lớp tốt là mô hình có cả Precision và Recall đều cao, tức càng gần một càng tốt. Có hai cách đo chất lượng của bộ phân lớp dựa vào Precision và Reall: Precision-Recall curve và F-score."
   ]
  },
  {
   "cell_type": "markdown",
   "metadata": {},
   "source": [
    "### 5.2. Precision-Recall curve và Average precision\n",
    "Tương tự như ROC curve, chúng ta cũng có thể đánh giá mô hình dựa trên việc thay đổi một ngưỡng và quan sát giá trị của Precision và Recall. Khái niệm Area Under the Curve (AUC) cũng được định nghĩa tương tự. Với Precision-Recall Curve, AUC còn có một tên khác là **Average precision (AP).** \n",
    "\n",
    "Giả sử có \\\\(N\\\\) ngưỡng để tính precision và recall, với mỗi ngưỡng cho một cặp giá trị precision, recall là \\\\(P_n, R_n,~ n= 1, 2, \\dots, N\\\\). Precision-Recall curve được vẽ bằng cách vẽ từng điểm có toạ độ \\\\((R_n, P_n)\\\\) trên trục toạ độ và nối chúng với nhau. AP được xác định bằng: \n",
    "\\\\[\n",
    "\\text{AP} = \\sum_{n}(R_{n} - R_{n-1})P_n\n",
    "\\\\]\n",
    "\n",
    "ở đó \\\\((R_{n} - R_{n-1})P_n\\\\) chính là diện tích hình chữ nhật có chiều rộng \\\\((R_{n} - R_{n-1})\\\\) và chiều cao \\\\(P_n\\\\), đây cũng gần với cách tính tích phân dựa trên cách tính diện tích của từng hình chữ nhật nhỏ. (Nếu bạn đọc còn nhớ khái niệm _diện tích hình thang cong_ thì sẽ tưởng tượng ra.)\n",
    "\n",
    "\n"
   ]
  },
  {
   "cell_type": "code",
   "execution_count": 26,
   "metadata": {},
   "outputs": [
    {
     "name": "stdout",
     "output_type": "stream",
     "text": [
      "True labels:\n",
      "[0 0 0 0 0 0 0 0 0 0 1 1 1 1 1 1 1 1 1 1 1 1 1 1 1 1 1 1 1 1 1 1 1 1 1 1 1\n",
      " 1 1 1 1 1 1 1 1 1 1 1 1 1 1 1 1 1 1 1 1 1 1 1]\n",
      "\n",
      "Scores of points in class 0:\n",
      "[ 0.4532211   0.17783934  0.28882419  0.32590519  0.39622915  0.40205253\n",
      "  0.45313854  0.38430321  0.15095623  0.277689  ]\n",
      "\n",
      "Scores of points in class 1:\n",
      "[ 0.4988291   0.75810609  0.64556491  0.47602321  0.74433944  0.47362442\n",
      "  0.4097235   0.33306616  0.72878245  0.63717897  0.77716313  0.45874727\n",
      "  0.45625013  0.46663932  0.55485142  0.73212624  0.64827874  0.79159043\n",
      "  0.65409981  0.65222509  0.69328907  0.42571771  0.73227381  0.56385826\n",
      "  0.79221719  0.33959542  0.37937212  0.64988635  0.63312719  0.48354232\n",
      "  0.34303077  0.37621614  0.55151313  0.72186201  0.60813543  0.4172953\n",
      "  0.52629369  0.71974321  0.59907166  0.46338397  0.50650893  0.79313585\n",
      "  0.77969648  0.77367731  0.41876566  0.77694768  0.62934437  0.58504087\n",
      "  0.70211336  0.77711043]\n"
     ]
    }
   ],
   "source": [
    "# generate simulated data\n",
    "n0, n1 = 10, 50\n",
    "score0 = np.random.rand(n0)/2\n",
    "label0 = np.zeros(n0, dtype = int)\n",
    "score1  = np.random.rand(n1)/2 + .3\n",
    "label1 = np.ones(n1, dtype = int)\n",
    "scores = np.concatenate((score0, score1))\n",
    "y_true = np.concatenate((label0, label1))\n",
    "\n",
    "print('True labels:')\n",
    "print(y_true)\n",
    "print('\\nScores of points in class 0:')\n",
    "print(scores[:n0])\n",
    "print('\\nScores of points in class 1:')\n",
    "print(scores[n0:])"
   ]
  },
  {
   "cell_type": "code",
   "execution_count": 28,
   "metadata": {},
   "outputs": [
    {
     "name": "stdout",
     "output_type": "stream",
     "text": [
      "Average precision-recall score: 0.99\n"
     ]
    }
   ],
   "source": [
    "from sklearn.metrics import roc_curve\n",
    "\n",
    "from sklearn.metrics import average_precision_score\n",
    "average_precision = average_precision_score(y_true, scores)\n",
    "\n",
    "print('Average precision-recall score: {0:0.2f}'.format(average_precision))"
   ]
  },
  {
   "cell_type": "code",
   "execution_count": 29,
   "metadata": {},
   "outputs": [
    {
     "data": {
      "image/png": "[encoded data removed]",
      "text/plain": [
       "<matplotlib.figure.Figure at 0x10a9c2d90>"
      ]
     },
     "metadata": {},
     "output_type": "display_data"
    }
   ],
   "source": [
    "from sklearn.metrics import precision_recall_curve\n",
    "import matplotlib.pyplot as plt\n",
    "\n",
    "precision, recall, thrs = precision_recall_curve(y_true, scores)\n",
    "\n",
    "plt.step(recall, precision, color='b', alpha=0.2, where='post')\n",
    "plt.fill_between(recall, precision, step='post', alpha=0.2, color='b')\n",
    "\n",
    "plt.xlabel('Recall')\n",
    "plt.ylabel('Precision')\n",
    "plt.ylim([0.0, 1.0])\n",
    "plt.xlim([0.0, 1.0])\n",
    "plt.title('2-class Precision-Recall curve: AUC={0:0.2f}'.format(average_precision))\n",
    "plt.show()"
   ]
  },
  {
   "cell_type": "markdown",
   "metadata": {},
   "source": [
    "### 5.3. F1-score\n",
    "$F_1$ score, hay F1-score, là _harmonic mean_ của precision và recall (giả sử rằng hai đại lượng này khác không):\n",
    "\\\\[\n",
    "\\frac{2}{F_1} = \\frac{1}{\\text{precision}} + \\frac{1}{\\text{recall}} ~ \\text{hay} ~ F_1 = 2\\frac{1}{\\frac{1}{\\text{precision}} + \\frac{1}{\\text{recall}}} = 2\\frac{\\text{precion}\\cdot{recall}}{\\text{precision} + \\text{recall}}\n",
    "\\\\]\n",
    "\n",
    "$F-1$-score có giá trị nằm trong nửa khoảng \\\\(0, 1]\\\\). $F_1$ càng cao, bộ phân lớp càng tốt. Khi cả recall và precision đều bằng 1 (tốt nhất có thể), $F_1 = 1$. Khi cả recall và precision đều thấp, ví dụ bằng 0.1, $F_1 = 0.1$. Dưới đây là một vài ví dụ về \\\\(F_1\\\\)\n",
    "\n",
    "| precision |recall | \\\\(F_1\\\\)|\n",
    "|-----------|-------|----------|\n",
    "|    1      |    1  |     1    |\n",
    "|    0.1    |   0.1 | 0.1 |\n",
    "|   0.5 | 0.5 | 0.5 | \n",
    "| 1         | 0.1    | 0.182 | \n",
    "| 0.3 | 0.8 | 0.36| \n",
    "\n",
    "Như vậy, một bộ phân lớp với precision = recall = 0.5 tốt hơn một bộ phân lớp khác với precision = 0.3, recall = 0.8 theo cách đo này. \n",
    "\n",
    "Trường hợp tổng quát của $F_1$ score là $F_{\\beta}$ score: \n",
    "\\\\[\n",
    "F_{\\beta} = ( 1 + \\beta^2)\\frac{\\text{precision}\\cdot\\text{recall}}{\\beta^2\\cdot\\text{precision} + \\text{recall}}\n",
    "\\\\]\n",
    "\n",
    "\\\\(F_1\\\\) chính là một trường hợp đặc biệt của \\\\(F_{\\beta}\\\\) khi \\\\(\\beta = 1\\\\). Khi \\\\(\\beta >1\\\\), recall được coi trọng hơn precision, khi \\\\(\\beta < 1\\\\), precision được coi trọng hơn. Hai đại lượng \\\\(\\beta\\\\) thường được sử dụng là \\\\(\\beta = 2\\\\) và \\\\(\\beta = 0.5\\\\). \n",
    "\n"
   ]
  },
  {
   "cell_type": "markdown",
   "metadata": {},
   "source": [
    "### 5.4. Precision-recall cho bài toán phân lớp nhiều lớp\n",
    "Cũng giống như ROC curve, precision-recall curve ban đầu được định nghĩa cho bài toán phân lớp nhị phân. Để có thể áp dụng các phép đo này cho bài toán multi-class classification, các đại lượng đầu ra (ground truth và predicted output) cần được đưa về dạng nhị phân. \n",
    "\n",
    "Bằng trực giác, ta có thể đưa bài toán phân lớp nhiều lớp về bài toán phân lớp nhị phân bằng cách xem xét từng lớp. Với mỗi lớp, ta coi dữ liệu thuộc lớp đó có label là _positive_, tất cả các dữ liệu còn lại có label là _negative_. Sau đó, giá trị Precision, Recall, và PR curve được áp dụng lên từng lớp. Với mỗi lớp, ta sẽ nhận được một cặp giá trị  precision và recall. Với các bài toán có ít lớp dữ liệu, ta có thể minh hoạ PR curve cho từng lớp trên cùng một đồ thị. Tuy nhiên, với các bài toán có rất nhiều lớp dữ liệu, việc này đôi khi không khả thi. Thay vào đó, hai phép đánh giá dựa trên Precision-Recall được sử dụng là _micro-average_ và _macro-average_.   \n",
    "\n",
    "#### 5.4.1. Micro-average  \n",
    "Xét ví dụ bài toán với 3 lớp dữ liệu, bộ phân lớp cho các tham số FP, TP, FN của mỗi lớp là: "
   ]
  },
  {
   "cell_type": "code",
   "execution_count": null,
   "metadata": {
    "collapsed": true
   },
   "outputs": [],
   "source": [
    "tp1, fp1, fn1 = 10, 5, 3\n",
    "tp2, fp2, fn2 = 17, 7, 10\n",
    "tp3, fp3, fn3 = 25, 2, 4 "
   ]
  },
  {
   "cell_type": "code",
   "execution_count": 18,
   "metadata": {},
   "outputs": [
    {
     "name": "stdout",
     "output_type": "stream",
     "text": [
      "(P1, R1) = (0.67, 0.77)\n",
      "(P2, R2) = (0.71, 0.63)\n",
      "(P3, R3) = (0.93, 0.71)\n"
     ]
    }
   ],
   "source": [
    "from __future__ import print_function\n",
    "def PR(tp, fp, fn):\n",
    "    P = float(tp)/(tp + fp)\n",
    "    R = float(tp)/(tp + fn)\n",
    "    return (P, R)\n",
    "\n",
    "(P1, R1) = PR(tp1, fp1, fn1)\n",
    "(P2, R2) = PR(tp2, fp2, fn2)\n",
    "(P3, R3) = PR(tp3, fp3, fn2)\n",
    "\n",
    "print('(P1, R1) = (%.2f, %.2f)'%(P1, R1))\n",
    "print('(P2, R2) = (%.2f, %.2f)'%(P2, R2))\n",
    "print('(P3, R3) = (%.2f, %.2f)'%(P3, R3))\n"
   ]
  },
  {
   "cell_type": "markdown",
   "metadata": {},
   "source": [
    "Micro-average precision và Micro-average recall đơn giản được tính bằng: \n",
    "\\\\[\n",
    "\\begin{eqnarray}\n",
    "\\text{micro-average precision} &=& \\frac{\\sum_{c=1}^C\\text{TP}c}{\\sum_{c=1}^C(\\text{TP}c + \\text{FP}c)}\\\\\\\n",
    "\\text{micro-average recall} &=& \\frac{\\sum_{c=1}^C\\text{TP}c}{\\sum_{c=1}^C(\\text{TP}c + \\text{FN}c)}\n",
    "\\end{eqnarray}\n",
    "\\\\]\n",
    "\n",
    "Tức TP được tính là tổng của toàn bộ TP của mỗi lớp. Tương tự với FP và FN. Với ví dụ trên, micro-average precision và recall tính được là: "
   ]
  },
  {
   "cell_type": "code",
   "execution_count": 17,
   "metadata": {},
   "outputs": [
    {
     "name": "stdout",
     "output_type": "stream",
     "text": [
      "(micro_ap, micro_ar) = (0.79, 0.75)\n"
     ]
    }
   ],
   "source": [
    "total_tp = tp1 + tp2 + tp3\n",
    "total_fp = fp1 + fp2 + fp3 \n",
    "total_fn = fn1 + fn2 + fn3 \n",
    "micro_ap = float(total_tp)/(total_tp + total_fp)\n",
    "micro_ar = float(total_tp)/(total_tp + total_fn)\n",
    "print('(micro_ap, micro_ar) = (%.2f, %.2f)' % (micro_ap, micro_ar))"
   ]
  },
  {
   "cell_type": "markdown",
   "metadata": {},
   "source": [
    "Micro-average F-Score cũng được tính tương tự như F-score nhưng dựa trên micro-average precision và micro-average recall. "
   ]
  },
  {
   "cell_type": "markdown",
   "metadata": {},
   "source": [
    "#### 5.4.2. Macro-average \n",
    "Macro-average precision là trung bình cộng của các precision theo class, tương tự với Macro-average recall. Với ví dụ trên, ta có"
   ]
  },
  {
   "cell_type": "code",
   "execution_count": 19,
   "metadata": {},
   "outputs": [
    {
     "name": "stdout",
     "output_type": "stream",
     "text": [
      "(micro_ap, micro_ar) = (0.77, 0.70)\n"
     ]
    }
   ],
   "source": [
    "macro_ap = (P1 + P2 + P3)/3\n",
    "macro_ar = (R1 + R2 + R3)/3\n",
    "print('(micro_ap, micro_ar) = (%.2f, %.2f)' % (macro_ap, macro_ar))"
   ]
  },
  {
   "cell_type": "markdown",
   "metadata": {},
   "source": [
    "Macro-average F-Score cũng được tính tương tự như F-score nhưng dựa trên macro-average precision và macro-average recall.\n",
    "\n"
   ]
  }
 ],
 "metadata": {
  "kernelspec": {
   "display_name": "Python 2",
   "language": "python",
   "name": "python2"
  },
  "language_info": {
   "codemirror_mode": {
    "name": "ipython",
    "version": 2
   },
   "file_extension": ".py",
   "mimetype": "text/x-python",
   "name": "python",
   "nbconvert_exporter": "python",
   "pygments_lexer": "ipython2",
   "version": "2.7.13"
  }
 },
 "nbformat": 4,
 "nbformat_minor": 2
}
